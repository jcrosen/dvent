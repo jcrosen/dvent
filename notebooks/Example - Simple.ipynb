{
 "cells": [
  {
   "cell_type": "code",
   "execution_count": 1,
   "metadata": {
    "scrolled": true
   },
   "outputs": [],
   "source": [
    "from pprint import pprint\n",
    "from uuid import uuid4\n",
    "from pyrsistent import freeze, thaw\n",
    "from dvent.event import Event"
   ]
  },
  {
   "cell_type": "code",
   "execution_count": 2,
   "metadata": {},
   "outputs": [
    {
     "data": {
      "text/plain": [
       "Event(data=pmap({}), version=0, id='20680407-2777-422a-8fd0-e4c06be58f2f', type='SomethingHappened', timestamp=datetime.datetime(2018, 5, 20, 21, 18, 6, 912024), stream_id='')"
      ]
     },
     "execution_count": 2,
     "metadata": {},
     "output_type": "execute_result"
    }
   ],
   "source": [
    "# To create a generic event just use Event.generate\n",
    "Event.generate('SomethingHappened')"
   ]
  },
  {
   "cell_type": "code",
   "execution_count": 3,
   "metadata": {},
   "outputs": [
    {
     "data": {
      "text/plain": [
       "{'data': pmap({}),\n",
       " 'version': 0,\n",
       " 'id': '17b734fe-a6e4-401b-b3d8-6a2e12158d10',\n",
       " 'type': 'SomethingHappened',\n",
       " 'timestamp': datetime.datetime(2018, 5, 20, 21, 18, 6, 938206),\n",
       " 'stream_id': ''}"
      ]
     },
     "execution_count": 3,
     "metadata": {},
     "output_type": "execute_result"
    }
   ],
   "source": [
    "# Events are PRecords, which are ultimately PMaps\n",
    "# So they can be easily converted into a python dict\n",
    "dict(Event.generate('SomethingHappened'))"
   ]
  },
  {
   "cell_type": "code",
   "execution_count": 4,
   "metadata": {},
   "outputs": [
    {
     "data": {
      "text/plain": [
       "{'data': {},\n",
       " 'version': 0,\n",
       " 'id': 'c1b056ae-5528-4d6e-abd1-6cccd5559846',\n",
       " 'type': 'SomethingHappened',\n",
       " 'timestamp': datetime.datetime(2018, 5, 20, 21, 18, 6, 954970),\n",
       " 'stream_id': ''}"
      ]
     },
     "execution_count": 4,
     "metadata": {},
     "output_type": "execute_result"
    }
   ],
   "source": [
    "# For nested pyrsistent data-structures (like Event)\n",
    "# you should use thaw; note the `data` element this time\n",
    "thaw(Event.generate('SomethingHappened'))"
   ]
  },
  {
   "cell_type": "code",
   "execution_count": 5,
   "metadata": {},
   "outputs": [
    {
     "ename": "AttributeError",
     "evalue": "'Event' object has no attribute 'version'",
     "output_type": "error",
     "traceback": [
      "\u001b[0;31m---------------------------------------------------------------------------\u001b[0m",
      "\u001b[0;31mAttributeError\u001b[0m                            Traceback (most recent call last)",
      "\u001b[0;32m<ipython-input-5-44f82a64a2cc>\u001b[0m in \u001b[0;36m<module>\u001b[0;34m()\u001b[0m\n\u001b[1;32m      1\u001b[0m \u001b[0;31m# Events are immutable, you can't change them\u001b[0m\u001b[0;34m\u001b[0m\u001b[0;34m\u001b[0m\u001b[0m\n\u001b[1;32m      2\u001b[0m \u001b[0mevent\u001b[0m \u001b[0;34m=\u001b[0m \u001b[0mEvent\u001b[0m\u001b[0;34m.\u001b[0m\u001b[0mgenerate\u001b[0m\u001b[0;34m(\u001b[0m\u001b[0;34m'SomethingHappened'\u001b[0m\u001b[0;34m,\u001b[0m \u001b[0mdata\u001b[0m\u001b[0;34m=\u001b[0m\u001b[0mfreeze\u001b[0m\u001b[0;34m(\u001b[0m\u001b[0;34m{\u001b[0m\u001b[0;34m'foo'\u001b[0m\u001b[0;34m:\u001b[0m \u001b[0;34m'bar'\u001b[0m\u001b[0;34m}\u001b[0m\u001b[0;34m)\u001b[0m\u001b[0;34m)\u001b[0m\u001b[0;34m\u001b[0m\u001b[0m\n\u001b[0;32m----> 3\u001b[0;31m \u001b[0mevent\u001b[0m\u001b[0;34m.\u001b[0m\u001b[0mversion\u001b[0m \u001b[0;34m=\u001b[0m \u001b[0;36m1\u001b[0m\u001b[0;34m\u001b[0m\u001b[0m\n\u001b[0m",
      "\u001b[0;31mAttributeError\u001b[0m: 'Event' object has no attribute 'version'"
     ]
    }
   ],
   "source": [
    "# Events are immutable, you can't change them\n",
    "event = Event.generate('SomethingHappened', data=freeze({'foo': 'bar'}))\n",
    "event.version = 1"
   ]
  },
  {
   "cell_type": "code",
   "execution_count": 6,
   "metadata": {},
   "outputs": [
    {
     "name": "stdout",
     "output_type": "stream",
     "text": [
      "0\n",
      "1\n"
     ]
    }
   ],
   "source": [
    "# You must create a new instance from the existing\n",
    "versioned_event = event.set('version', 1)\n",
    "pprint(event.version)\n",
    "pprint(versioned_event.version)"
   ]
  },
  {
   "cell_type": "code",
   "execution_count": 7,
   "metadata": {},
   "outputs": [
    {
     "name": "stdout",
     "output_type": "stream",
     "text": [
      "{'data': {'foo': 'baz'},\n",
      " 'id': 'b08465f5-73db-46f0-948b-58e9a27ff5c7',\n",
      " 'stream_id': 'b8817830-3d8c-406d-bd96-f993d113c77e',\n",
      " 'timestamp': datetime.datetime(2018, 5, 20, 21, 18, 6, 971760),\n",
      " 'type': 'SomethingHappened',\n",
      " 'version': 11}\n",
      "{'data': {'foo': 'bar'},\n",
      " 'id': 'b08465f5-73db-46f0-948b-58e9a27ff5c7',\n",
      " 'stream_id': '',\n",
      " 'timestamp': datetime.datetime(2018, 5, 20, 21, 18, 6, 971760),\n",
      " 'type': 'SomethingHappened',\n",
      " 'version': 0}\n"
     ]
    }
   ],
   "source": [
    "# With this pattern you can easily chain and compose\n",
    "new_event = event\\\n",
    "  .set('version', 11)\\\n",
    "  .set('data', event.data.set('foo', 'baz'))\\\n",
    "  .set('stream_id', str(uuid4()))\n",
    "\n",
    "pprint(thaw(new_event))\n",
    "\n",
    "# And again the original is safely unchanged\n",
    "pprint(thaw(event))"
   ]
  },
  {
   "cell_type": "code",
   "execution_count": null,
   "metadata": {},
   "outputs": [],
   "source": []
  }
 ],
 "metadata": {
  "kernelspec": {
   "display_name": "Python 3",
   "language": "python",
   "name": "python3"
  },
  "language_info": {
   "codemirror_mode": {
    "name": "ipython",
    "version": 3
   },
   "file_extension": ".py",
   "mimetype": "text/x-python",
   "name": "python",
   "nbconvert_exporter": "python",
   "pygments_lexer": "ipython3",
   "version": "3.6.5"
  }
 },
 "nbformat": 4,
 "nbformat_minor": 2
}
